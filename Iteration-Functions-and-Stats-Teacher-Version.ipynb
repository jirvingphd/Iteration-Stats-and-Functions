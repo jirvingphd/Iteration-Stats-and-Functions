{
 "cells": [
  {
   "cell_type": "markdown",
   "metadata": {
    "slideshow": {
     "slide_type": "notes"
    }
   },
   "source": [
    "# Teacher Notes\n",
    "\n",
    "## Introduction\n",
    "\n",
    "This lesson covers a lot of ground! The first portion of the lesson reviews iterating over collections and basic programming concepts. This portion may be appropriate to work through quickly or skip over for an advanced class. The next portion then covers writing functions in python.\n",
    "\n",
    "## Learning Goals\n",
    "\n",
    " - Revisit what for loop does, using a dictionary\n",
    " - Use `break` to adjust loop activity\n",
    " - Use nested loops to navigate a nested dictionary\n",
    " - Write a robust function that will take any nested dictionary of items, costs, and print out your shopping list, stopping when the total cost gets to high, and telling you the average cost per item in your cart.\n",
    "\n",
    "\n",
    "## Prerequisite Knowledge\n",
    "\n",
    "Some introduction to basic python data types including strings, lists and dictionaries will be needed. Students should have read something about iterations and functions to be successful in this lesson.\n",
    "\n",
    "\n",
    "\n",
    "## Materials\n",
    "\n",
    "* Student version of this slide deck: Iteration Functions and Stats"
   ]
  },
  {
   "cell_type": "markdown",
   "metadata": {
    "slideshow": {
     "slide_type": "slide"
    }
   },
   "source": [
    "## Learning Goals\n",
    "\n",
    "\n",
    " - Revisit what for loop does, using a dictionary\n",
    " - Use `break` to adjust loop activity\n",
    " - Use nested loops to navigate a nested dictionary\n",
    " - Write a robust function that will take any nested dictionary of items, costs, and print out your shopping list, stopping when the total cost gets to high, and telling you the average cost per item in your cart.\n",
    "\n"
   ]
  },
  {
   "cell_type": "markdown",
   "metadata": {
    "slideshow": {
     "slide_type": "slide"
    }
   },
   "source": [
    "# **Scenario:**\n",
    "Today we are going to build upon the for loops of yesterday. Who has ever got to the cash register at costco, or whole foods, seen the total and asked \"how did I spend that much?\". Today we have a grocery list of items and prices, but we do not have infinite money (unfortunately), so we need to have a program that will look at our grocery list and help us manage our shopping and cost.\n",
    "\n",
    "\n",
    "Let's revisit what a for loop does. Here we have a list of items, and a separate list of costs. We are going to write a loop to print each item, it's cost, and the total of our grocery list.\n",
    "\n",
    "```\n",
    "items = ['cheese', 'whole milk', 'kefir', 'tofu four-pack', 'kale', 'oranges', 'ham', 'ben & jerry's']\n",
    "cost = [2.79, 3.42, 4.50, 12.00, 2.75, 3.64, 25.00, 5.29]\n",
    "```\n",
    "\n",
    "![groc-cart](https://images.pexels.com/photos/1389103/pexels-photo-1389103.jpeg?auto=compress&cs=tinysrgb&dpr=2&h=750&w=1260)\n",
    "\n",
    "### For loops:\n",
    "First, let's create a for-loop that prints each item in the list with \"I need to buy: \" item."
   ]
  },
  {
   "cell_type": "code",
   "execution_count": null,
   "metadata": {
    "slideshow": {
     "slide_type": "slide"
    }
   },
   "outputs": [],
   "source": [
    "#Your code here; create a for loop that prints each item in the list with a \"I need to buy: ______\""
   ]
  },
  {
   "cell_type": "markdown",
   "metadata": {
    "slideshow": {
     "slide_type": "notes"
    }
   },
   "source": [
    "## Teacher Notes\n",
    "\n",
    "Sample solution:\n",
    "```python\n",
    "for item in items:\n",
    "   print(\"I need to buy : \", item)\n",
    "```   \n",
    "\n",
    "(let them figure out how to make the for loop the first way, then show them the following:)\n",
    " - Let's make that a little nicer looking:\n",
    "\n",
    "```\n",
    "print(\"I need to buy: \")\n",
    "for item in items:\n",
    "   print(\" - [ ] \", item)\n",
    "```\n",
    "\n",
    "Can also use the .format() method."
   ]
  },
  {
   "cell_type": "markdown",
   "metadata": {
    "slideshow": {
     "slide_type": "slide"
    }
   },
   "source": [
    "Okay, we want to work through a dictionary, so what's one way to convert those two lists to a dictionary?:\n"
   ]
  },
  {
   "cell_type": "markdown",
   "metadata": {
    "slideshow": {
     "slide_type": "notes"
    }
   },
   "source": [
    "## Teacher Notes\n",
    "\n",
    "Solution:\n",
    "\n",
    "```\n",
    "items_cost = dict(zip(items, cost))\n",
    "print(\"I need to buy: \")\n",
    "for key, value in items_cost.items():\n",
    "  print(\"- [ ] \", key, \": for $\", value)\n",
    "```"
   ]
  },
  {
   "cell_type": "markdown",
   "metadata": {
    "slideshow": {
     "slide_type": "slide"
    }
   },
   "source": [
    "Now add the total grocery bill at the end:"
   ]
  },
  {
   "cell_type": "code",
   "execution_count": null,
   "metadata": {
    "slideshow": {
     "slide_type": "slide"
    }
   },
   "outputs": [],
   "source": [
    "#Your code here"
   ]
  },
  {
   "cell_type": "markdown",
   "metadata": {
    "slideshow": {
     "slide_type": "notes"
    }
   },
   "source": [
    "## Teacher Notes\n",
    "\n",
    "Potential solution:\n",
    "    \n",
    "```python\n",
    "print(\"I need to buy: \")\n",
    "total = 0\n",
    "for key, value in items_cost.items():\n",
    "  print(\"- [ ] \", key, \": for $\", value)\n",
    "  total = total + value\n",
    "print(\"total cost: $\", total)\n",
    "```"
   ]
  },
  {
   "cell_type": "markdown",
   "metadata": {
    "slideshow": {
     "slide_type": "slide"
    }
   },
   "source": [
    "1. Does this look reasonable? \n",
    "2. What if you only had $25 ?  \n",
    "\n",
    "3. How can you build it out to stop adding items when the total is over $25?"
   ]
  },
  {
   "cell_type": "markdown",
   "metadata": {
    "slideshow": {
     "slide_type": "slide"
    }
   },
   "source": [
    "### Introducing while loops\n",
    "\n",
    "- What does a while loop look like in Python?"
   ]
  },
  {
   "cell_type": "markdown",
   "metadata": {
    "slideshow": {
     "slide_type": "slide"
    }
   },
   "source": [
    "```python\n",
    "i = 1\n",
    "while i < 6:\n",
    "  print(i)\n",
    "  i += 1\n",
    "```\n",
    "- Explain step by step how the above code is working and what you expect to see (expect to see 1,2,3,4,5 as output) before you run it in the notebook\n",
    "- What is `break` and `continue`?\n",
    "- Are they different? How?"
   ]
  },
  {
   "cell_type": "markdown",
   "metadata": {
    "slideshow": {
     "slide_type": "slide"
    }
   },
   "source": [
    "# Run the following code:\n",
    "\n",
    "```python\n",
    "i = 0\n",
    "while i < 6:\n",
    "  i += 1\n",
    "  if i == 3:\n",
    "    print(\"foo\")\n",
    "    continue\n",
    "  print(i)\n",
    "```"
   ]
  },
  {
   "cell_type": "markdown",
   "metadata": {
    "slideshow": {
     "slide_type": "notes"
    }
   },
   "source": [
    "## Teacher Notes\n",
    "\n",
    "- Go step by step how the above code is working."
   ]
  },
  {
   "cell_type": "markdown",
   "metadata": {
    "slideshow": {
     "slide_type": "slide"
    }
   },
   "source": [
    "# Now run this code:\n",
    "\n",
    "```python\n",
    "i = 0\n",
    "while i < 6:\n",
    "  i += 1\n",
    "  if i == 3:\n",
    "    print(\"foo\")\n",
    "    break\n",
    "  print(i)\n",
    "```\n",
    "\n",
    "\n",
    "- Why is the output different?\n",
    "- It stopped at `foo`, why?"
   ]
  },
  {
   "cell_type": "markdown",
   "metadata": {
    "slideshow": {
     "slide_type": "notes"
    }
   },
   "source": [
    "## Teacher Notes\n",
    "\n",
    "- We can also include breaks in for-loops.\n",
    "- What would we use to stop the for loop if the total reached $25?\n",
    "\n",
    "Sample solution:\n",
    "\n",
    "```python\n",
    "print(\"I need to buy: \")\n",
    "total = 0\n",
    "for key, value in items_cost.items():\n",
    "  print(\"- [ ] \", key, \": for $\", value)\n",
    "  total = total + value\n",
    "  if total >= 25:\n",
    "    break\n",
    "print(\"total cost: $\", total)\n",
    "```"
   ]
  },
  {
   "cell_type": "markdown",
   "metadata": {
    "slideshow": {
     "slide_type": "slide"
    }
   },
   "source": [
    "- How could you adapt your script to stop the program if an item costs more than $10 ?\n",
    "    * Hint: try using `continue` and `break` clauses"
   ]
  },
  {
   "cell_type": "markdown",
   "metadata": {
    "slideshow": {
     "slide_type": "notes"
    }
   },
   "source": [
    "## Teacher Notes\n",
    "\n",
    "sample solution\n",
    "\n",
    "```python\n",
    "print(\"I need to buy: \")\n",
    "total = 0\n",
    "for key, value in items_cost.items():\n",
    "  print(\"- [ ] \", key, \": for $\", value)\n",
    "  if value >=10:\n",
    "    print(key, \" costs more than $10. Revise your list\")\n",
    "    print(\"Total cost below is before including \", key)\n",
    "    break\n",
    "  total = total + value\n",
    "print(\"total cost: $\", total)\n",
    "```"
   ]
  },
  {
   "cell_type": "markdown",
   "metadata": {
    "slideshow": {
     "slide_type": "slide"
    }
   },
   "source": [
    "### Nested Loops\n",
    "\n",
    "- Now let's look at a little more complicated example using nested loops.\n",
    "- Take a look at this code:\n",
    "\n",
    "```python\n",
    "list = [1,2,3,4,5]\n",
    "\n",
    "for x in list:\n",
    "  print('loop1:', x)\n",
    "  for y in list:\n",
    "    print('loop2---', y)\n",
    "```\n",
    "- What do you expect to see? Why?\n",
    "- Break it down what the loop is doing at each step."
   ]
  },
  {
   "cell_type": "markdown",
   "metadata": {
    "slideshow": {
     "slide_type": "notes"
    }
   },
   "source": [
    "## Teacher Notes\n",
    "\n",
    "- Change some variables in the above code to check for understanding from the group"
   ]
  },
  {
   "cell_type": "markdown",
   "metadata": {
    "slideshow": {
     "slide_type": "slide"
    }
   },
   "source": [
    "# Here's a more complicated example, what is it doing?\n",
    "\n",
    "```python\n",
    "i = 2\n",
    "while(i < 100):\n",
    "   j = 2\n",
    "   while(j <= (i/j)):\n",
    "      if not(i%j): break\n",
    "      j = j + 1\n",
    "   if (j > i/j) : print i, \" is prime\"\n",
    "   i = i + 1\n",
    "\n",
    "print \"Good bye!\"\n",
    "```"
   ]
  },
  {
   "cell_type": "markdown",
   "metadata": {
    "slideshow": {
     "slide_type": "notes"
    }
   },
   "source": [
    "## Teacher Notes\n",
    "\n",
    "First, checks if i is less then 100.\n",
    "Then checks if j is less then i/j. Program terminates at this point.\n",
    "\n",
    "Make some notes regarding poor indentation of the above code. **This is not an exemplar!**"
   ]
  },
  {
   "cell_type": "markdown",
   "metadata": {
    "slideshow": {
     "slide_type": "slide"
    }
   },
   "source": [
    "# Back to Our Shopping Cart\n",
    "\n",
    "- Here is a more robust shopping list of nested dictionaries:\n",
    "\n",
    "```python\n",
    "shopping_dict = {'Grocieries': {'ben & jerrys': 5.29, 'cheese': 2.79,'ham': 25.0, 'kale': 2.75,'kefir': 4.5,'oranges': 3.64,'tofu four-pack': 12.0,'whole milk': 3.42},\n",
    "                 'House supplies': {'toilet paper pack': 16.50, 'clorox spray': 6.43, 'kleenex': 2.50,},\n",
    "                 'Pet supplies': {'Taste of the Wild': 65.20, 'squeaky toy': 4.50, 'duck feet': 8.45}}\n",
    "```\n",
    "- Write the nested for loops to print out each grocery list with its total"
   ]
  },
  {
   "cell_type": "markdown",
   "metadata": {
    "slideshow": {
     "slide_type": "notes"
    }
   },
   "source": [
    "## Teacher Notes\n",
    "\n",
    "Sample solution:\n",
    "\n",
    "May be also worth going over alternative solutions such as using the .keys() methods of dictionaries and then finding the relevant value from the dictionary, or attempting to use list comprehensions in some way.\n",
    "\n",
    "```python\n",
    "for category in shopping_dict:\n",
    "    total = sum([price for item, price in category.items()])\n",
    "    print(category, total)\n",
    "```"
   ]
  },
  {
   "cell_type": "markdown",
   "metadata": {
    "slideshow": {
     "slide_type": "notes"
    }
   },
   "source": [
    "## Teacher Notes\n",
    "\n",
    "_Informal Assessment_:<br/>\n",
    "\"Quick check, how confident do we feel about loops and nested loops?\"\n",
    "- follow up with those students who do not feel confident"
   ]
  },
  {
   "cell_type": "markdown",
   "metadata": {
    "slideshow": {
     "slide_type": "slide"
    }
   },
   "source": [
    "# Functions\n",
    "\n",
    "- Why would we need to write functions?\n",
    "- How do we write a function in python?"
   ]
  },
  {
   "cell_type": "markdown",
   "metadata": {
    "slideshow": {
     "slide_type": "notes"
    }
   },
   "source": [
    "## Teacher Notes\n",
    "\n",
    "Some Reasons:\n",
    "- Separation of concerns (SoC), in computer science\n",
    "- Modular code!\n",
    "  - repeatable\n",
    "  - doing things manually is the worst\n",
    "  - standardization and human error reduction\n",
    "\n",
    "\n",
    "See next slide for specific example. Go over the `def` clause and its syntax."
   ]
  },
  {
   "cell_type": "markdown",
   "metadata": {
    "slideshow": {
     "slide_type": "slide"
    }
   },
   "source": [
    "```python\n",
    "def sayHello():\n",
    "  print(\"Hello!\")\n",
    "```\n",
    "- How can you execute this function?\n",
    "\n",
    "```"
   ]
  },
  {
   "cell_type": "markdown",
   "metadata": {
    "slideshow": {
     "slide_type": "notes"
    }
   },
   "source": [
    "## Teacher Notes\n",
    "\n",
    "```\n",
    "sayHello()\n",
    "```\n",
    "- Let's talk about arguments or parameters.    \n"
   ]
  },
  {
   "cell_type": "markdown",
   "metadata": {
    "slideshow": {
     "slide_type": "slide"
    }
   },
   "source": [
    "* Let's say we want to make this function more dynamic and print out whatever we want!   \n",
    "* How we do that?"
   ]
  },
  {
   "cell_type": "markdown",
   "metadata": {
    "slideshow": {
     "slide_type": "notes"
    }
   },
   "source": [
    "## Teacher Notes\n",
    "\n",
    "```python\n",
    "def shout(phrase):\n",
    "  print(phrase + \"!!!\")\n",
    "\n",
    "shout(\"oh hai\")\n",
    "```"
   ]
  },
  {
   "cell_type": "markdown",
   "metadata": {
    "slideshow": {
     "slide_type": "slide"
    }
   },
   "source": [
    "- What if we don't pass in an argument? What happens?\n",
    "- Maybe we can establish a default value for the argument in case it isn't passed in.\n"
   ]
  },
  {
   "cell_type": "markdown",
   "metadata": {
    "slideshow": {
     "slide_type": "notes"
    }
   },
   "source": [
    "## Teacher Notes\n",
    "\n",
    "```python\n",
    "def shout(phrase = \"oh hai\"):\n",
    "  print(phrase + \"!!!\")\n",
    "\n",
    "shout()\n",
    "shout(\"bye\")\n",
    "```"
   ]
  },
  {
   "cell_type": "markdown",
   "metadata": {
    "slideshow": {
     "slide_type": "slide"
    }
   },
   "source": [
    "- What if we wanted to run a function, take it's output and put it in to another function?"
   ]
  },
  {
   "cell_type": "markdown",
   "metadata": {
    "slideshow": {
     "slide_type": "notes"
    }
   },
   "source": [
    "## Teacher Notes\n",
    "\n",
    "\n",
    "```\n",
    "def addOne(number):\n",
    "  return number + 1\n",
    "\n",
    "def timesFive(number):\n",
    "  return number * 5\n",
    "\n",
    "numberPlusOne = addOne(1)\n",
    "answer = timesFive(numberPlusOne)\n",
    "print(answer)\n",
    "```\n",
    "\n",
    "- What will the above code return?\n"
   ]
  },
  {
   "cell_type": "markdown",
   "metadata": {
    "slideshow": {
     "slide_type": "notes"
    }
   },
   "source": [
    "## Teacher Notes\n",
    "\n",
    "Adapt your shopping list nested for-loop to be wrapped in a function you could call on any shopping list of nested dictionaries. \n",
    "\n",
    "_Informal Assessment_:<br/>\n",
    "\"Quick check, how confident do we feel about functions and arguments?\"\n",
    "- follow up with those students who do not feel confident"
   ]
  },
  {
   "cell_type": "markdown",
   "metadata": {
    "slideshow": {
     "slide_type": "slide"
    }
   },
   "source": [
    "- Adapt your function to do the following:\n",
    "    - stop the nested loop if a grocery total goes over $30\n",
    "    - print out the average cost of per item in your cart\n",
    "    - print out the average cost per item in category\n",
    " "
   ]
  },
  {
   "cell_type": "markdown",
   "metadata": {
    "slideshow": {
     "slide_type": "notes"
    }
   },
   "source": [
    "## Teacher Notes\n",
    "\n",
    " Answer:\n",
    " \n",
    " ```\n",
    "grand_tot = 0\n",
    "grand_count = 0\n",
    "for cat in list(shopping_dict.keys()):\n",
    "    total = 0\n",
    "    count = len(shopping_dict[cat].values())\n",
    "    grand_count = grand_count + count\n",
    "    print(cat+\": \")\n",
    "    for key, value in shopping_dict[cat].items():\n",
    "        print(\"- [ ] \", key, \" $\", value)\n",
    "        total = total + value\n",
    "    average = total/count\n",
    "    grand_tot=grand_tot + total\n",
    "    print(\"average cost per {a}: ${p:8.2f}\".format(a=cat,p=average))\n",
    "grand_av = grand_tot/grand_count\n",
    "print(\"average cost per item: ${p:8.2f}\".format(p=grand_av))\n",
    " ```\n",
    " \n",
    " \n",
    " Just for average cost per item in category:\n",
    " \n",
    " ```\n",
    " for cat in list(shopping_dict.keys()):\n",
    "     total = 0\n",
    "     count = len(shopping_dict[cat].values())\n",
    "     print(cat+\": \")\n",
    "     for key, value in shopping_dict[cat].items():\n",
    "        print(\"- [ ] \", key, \" $\", value)\n",
    "        total = total + value\n",
    "     average = total/count\n",
    "     print(\"average cost per {a}: ${p:8.2f}\".format(a=cat,p=average))   \n",
    "```\n",
    "\n",
    "**Step**: Reflection <br/>\n",
    "**Time**: 10 min <br/>\n",
    "Ask the class and discuss as a group:\n",
    "- What's an application of one of these new tools that you can think of for your own work? \n",
    "- What did you all find challenging about this content?\n",
    "- What did you all find surprising?\n",
    "- What did you all enjoy?"
   ]
  }
 ],
 "metadata": {
  "celltoolbar": "Slideshow",
  "kernelspec": {
   "display_name": "Python 3",
   "language": "python",
   "name": "python3"
  },
  "language_info": {
   "codemirror_mode": {
    "name": "ipython",
    "version": 3
   },
   "file_extension": ".py",
   "mimetype": "text/x-python",
   "name": "python",
   "nbconvert_exporter": "python",
   "pygments_lexer": "ipython3",
   "version": "3.6.5"
  }
 },
 "nbformat": 4,
 "nbformat_minor": 2
}
